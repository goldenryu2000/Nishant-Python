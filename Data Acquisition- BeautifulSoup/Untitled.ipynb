{
 "cells": [
  {
   "cell_type": "code",
   "execution_count": 1,
   "metadata": {},
   "outputs": [],
   "source": [
    "from urllib.request import urlopen\n",
    "from bs4 import BeautifulSoup as soup"
   ]
  },
  {
   "cell_type": "code",
   "execution_count": 2,
   "metadata": {},
   "outputs": [],
   "source": [
    "android_url = \"https://en.wikipedia.org/wiki/Android_version_history\"\n",
    "android_data = urlopen(android_url)"
   ]
  },
  {
   "cell_type": "code",
   "execution_count": 3,
   "metadata": {},
   "outputs": [],
   "source": [
    "android_html = android_data.read()"
   ]
  },
  {
   "cell_type": "code",
   "execution_count": 4,
   "metadata": {},
   "outputs": [],
   "source": [
    "android_soup = soup(android_html)"
   ]
  },
  {
   "cell_type": "code",
   "execution_count": 5,
   "metadata": {},
   "outputs": [],
   "source": [
    "tables = android_soup.findAll(\"table\" , {\"class\" : \"wikitable\"})"
   ]
  },
  {
   "cell_type": "code",
   "execution_count": 6,
   "metadata": {},
   "outputs": [],
   "source": [
    "android_table = tables[0]"
   ]
  },
  {
   "cell_type": "code",
   "execution_count": 7,
   "metadata": {},
   "outputs": [],
   "source": [
    "headers = android_table.findAll('th')\n",
    "column_titles = [ct.text[:-1] for ct in headers]"
   ]
  },
  {
   "cell_type": "code",
   "execution_count": 8,
   "metadata": {},
   "outputs": [],
   "source": [
    "#to get data of all rows\n",
    "row_data = android_table.findAll('tr')[1:]\n",
    "\n",
    "table_rows = []\n",
    "for row in row_data:\n",
    "    current_row = []\n",
    "    rows_data=row.findAll('td' ,{})\n",
    "    for idx,data in enumerate(rows_data):\n",
    "        current_row.append(data.text[:-1])\n",
    "    table_rows.append(current_row)"
   ]
  },
  {
   "cell_type": "code",
   "execution_count": 9,
   "metadata": {},
   "outputs": [
    {
     "data": {
      "text/plain": [
       "[['No codename', '1.0', 'September 23, 2008', 'No', '1', '[9]'],\n",
       " ['1.1', 'February 9, 2009', 'No', '2', '[9][14]'],\n",
       " ['Cupcake', '1.5', 'April 27, 2009', 'No', '3', '[15]'],\n",
       " ['Donut', '1.6', 'September 15, 2009', 'No', '4', '[16]'],\n",
       " ['Eclair', '2.0 – 2.1', 'October 26, 2009', 'No', '5 – 7', '[17]'],\n",
       " ['Froyo', '2.2 – 2.2.3', 'May 20, 2010', 'No', '8', '[18]'],\n",
       " ['Gingerbread', '2.3 – 2.3.7', 'December 6, 2010', 'No', '9 – 10', '[19]'],\n",
       " ['Honeycomb', '3.0 – 3.2.6', 'February 22, 2011', 'No', '11 – 13', '[20]'],\n",
       " ['Ice Cream Sandwich',\n",
       "  '4.0 – 4.0.4',\n",
       "  'October 18, 2011',\n",
       "  'No',\n",
       "  '14 – 15',\n",
       "  '[21]'],\n",
       " ['Jelly Bean', '4.1 – 4.3.1', 'July 9, 2012', 'No', '16 – 18', '[22]'],\n",
       " ['KitKat', '4.4 – 4.4.4', 'October 31, 2013', 'No', '19 – 20', '[23]'],\n",
       " ['Lollipop', '5.0 – 5.1.1', 'November 12, 2014', 'No', '21 – 22', '[24]'],\n",
       " ['Marshmallow', '6.0 – 6.0.1', 'October 5, 2015', 'No', '23', '[25]'],\n",
       " ['Nougat',\n",
       "  '7.0 – 7.1.2',\n",
       "  'August 22, 2016',\n",
       "  'No',\n",
       "  '24 – 25',\n",
       "  '[26][27][28][29]'],\n",
       " ['Oreo', '8.0 – 8.1', 'August 21, 2017', 'Yes', '26 – 27', '[30]'],\n",
       " ['Pie', '9', 'August 6, 2018', 'Yes', '28', '[31]'],\n",
       " ['Android 10', '10', 'September 3, 2019', 'Yes', '29', '[32]'],\n",
       " ['Android 11', '11', '[to be determined]', 'Beta', '30', '[33]']]"
      ]
     },
     "execution_count": 9,
     "metadata": {},
     "output_type": "execute_result"
    }
   ],
   "source": [
    "#writing data into csv\n"
   ]
  },
  {
   "cell_type": "code",
   "execution_count": null,
   "metadata": {},
   "outputs": [],
   "source": []
  }
 ],
 "metadata": {
  "kernelspec": {
   "display_name": "Python 3",
   "language": "python",
   "name": "python3"
  },
  "language_info": {
   "codemirror_mode": {
    "name": "ipython",
    "version": 3
   },
   "file_extension": ".py",
   "mimetype": "text/x-python",
   "name": "python",
   "nbconvert_exporter": "python",
   "pygments_lexer": "ipython3",
   "version": "3.7.6"
  }
 },
 "nbformat": 4,
 "nbformat_minor": 4
}
