{
 "cells": [
  {
   "cell_type": "code",
   "execution_count": 5,
   "metadata": {},
   "outputs": [],
   "source": [
    "import cv2\n",
    "cap = cv2.VideoCapture(0)  #capturing the default video device.... For other devices just hit and try with other values \n",
    "while True: \n",
    "    ret,frame = cap.read() #reading the input frame by frame\n",
    "    gray_frame = cv2.cvtColor(frame, cv2.COLOR_BGR2GRAY) #converting the color space to grayscale\n",
    "    if ret == False: #if the read() returns an error\n",
    "        continue\n",
    "    cv2.imshow(\"Video Wbcam\", frame) #original video stream\n",
    "    cv2.imshow(\"Gray Frame\" , gray_frame) #grayscale video stream\n",
    "    \n",
    "    #to stop the webcam when \"q\" is pressed.\n",
    "    key_pressed = cv2.waitKey(1) & 0xFF  #converting the 32-bit output by waitKey() into an 8-bit to match the ASCII code(0-255)\n",
    "    if key_pressed == ord('q'): #checking if the pressed key is a 'q'.... ord('q') returns the ASCII code of the character\n",
    "        break\n",
    "cap.release() #release the video capture device\n",
    "cv2.destroyAllWindows() #destroy all the windows"
   ]
  },
  {
   "cell_type": "code",
   "execution_count": null,
   "metadata": {},
   "outputs": [],
   "source": []
  }
 ],
 "metadata": {
  "kernelspec": {
   "display_name": "Python 3",
   "language": "python",
   "name": "python3"
  },
  "language_info": {
   "codemirror_mode": {
    "name": "ipython",
    "version": 3
   },
   "file_extension": ".py",
   "mimetype": "text/x-python",
   "name": "python",
   "nbconvert_exporter": "python",
   "pygments_lexer": "ipython3",
   "version": "3.7.6"
  }
 },
 "nbformat": 4,
 "nbformat_minor": 4
}
