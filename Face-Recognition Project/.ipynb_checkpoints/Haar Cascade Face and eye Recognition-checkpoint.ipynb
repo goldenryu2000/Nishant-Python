{
 "cells": [
  {
   "cell_type": "code",
   "execution_count": 1,
   "metadata": {},
   "outputs": [],
   "source": [
    "import cv2"
   ]
  },
  {
   "cell_type": "code",
   "execution_count": 7,
   "metadata": {},
   "outputs": [],
   "source": [
    "cap = cv2.VideoCapture(0)\n",
    "face_cascade = cv2.CascadeClassifier(\"Haar Cascade/haarcascade_frontalface_alt.xml\")\n",
    "eye_cascade = cv2.CascadeClassifier(\"Haar Cascade/haarcascade_eye_tree_eyeglasses.xml\")\n",
    "while True:\n",
    "    ret,frame = cap.read()\n",
    "    gray_frame = cv2.cvtColor(frame, cv2.COLOR_BGR2GRAY)\n",
    "    if ret==False:\n",
    "        continue\n",
    "    faces = face_cascade.detectMultiScale(gray_frame,1.3,5)\n",
    "    eyes = eye_cascade.detectMultiScale(gray_frame,1.3,6)\n",
    "    for (x,y,w,h) in faces:\n",
    "        cv2.rectangle(frame, (x,y),(x+w,y+h),(0,0,255),4)\n",
    "    for (a,b,c,d) in eyes:\n",
    "        cv2.rectangle(frame, (a,b),(a+c,b+d),(255,255,0),4)\n",
    "        \n",
    "    cv2.imshow(\"Video\" , frame)\n",
    "    keypress = cv2.waitKey(1) & 0xFF\n",
    "    if keypress == ord('q'):\n",
    "        break\n",
    "cap.release()\n",
    "cv2.destroyAllWindows()"
   ]
  },
  {
   "cell_type": "code",
   "execution_count": null,
   "metadata": {},
   "outputs": [],
   "source": []
  },
  {
   "cell_type": "code",
   "execution_count": null,
   "metadata": {},
   "outputs": [],
   "source": []
  }
 ],
 "metadata": {
  "kernelspec": {
   "display_name": "Python 3",
   "language": "python",
   "name": "python3"
  },
  "language_info": {
   "codemirror_mode": {
    "name": "ipython",
    "version": 3
   },
   "file_extension": ".py",
   "mimetype": "text/x-python",
   "name": "python",
   "nbconvert_exporter": "python",
   "pygments_lexer": "ipython3",
   "version": "3.7.6"
  }
 },
 "nbformat": 4,
 "nbformat_minor": 4
}
