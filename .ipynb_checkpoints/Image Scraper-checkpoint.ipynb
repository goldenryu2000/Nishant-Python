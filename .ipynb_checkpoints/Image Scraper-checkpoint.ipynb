{
 "cells": [
  {
   "cell_type": "code",
   "execution_count": 1,
   "metadata": {},
   "outputs": [],
   "source": [
    "import requests as rq\n",
    "import bs4"
   ]
  },
  {
   "cell_type": "code",
   "execution_count": 3,
   "metadata": {},
   "outputs": [
    {
     "name": "stdout",
     "output_type": "stream",
     "text": [
      "Enter item to be searched: Halo\n",
      "Number of images (<=20): 20\n"
     ]
    }
   ],
   "source": [
    "a = input(\"Enter item to be searched: \")\n",
    "n = int(input(\"Number of images (<=20): \"))\n",
    "if n<=20:\n",
    "    url = \"https://depositphotos.com/stock-photos/{}.html?filter=all\" .format(a)\n",
    "    response = rq.get(url)\n",
    "    soup = bs4.BeautifulSoup(response.content)\n",
    "    pict_attr = soup.find_all('img')\n",
    "    pict = pict_attr[1]\n",
    "\n",
    "    for i,pict in enumerate(pict_attr):\n",
    "        if i==0:\n",
    "            continue\n",
    "        elif i<n+1:\n",
    "            with open(\"{}-{}.jpg\" .format(a,i),\"wb\") as file:\n",
    "                pict_url = pict.attrs['src']\n",
    "                response = rq.get(pict_url)\n",
    "                file.write(response.content)\n",
    "        else:\n",
    "            break\n",
    "else:\n",
    "    print(\"Enter a Value Less than 20\")\n",
    "    "
   ]
  },
  {
   "cell_type": "code",
   "execution_count": null,
   "metadata": {},
   "outputs": [],
   "source": []
  },
  {
   "cell_type": "code",
   "execution_count": null,
   "metadata": {},
   "outputs": [],
   "source": []
  }
 ],
 "metadata": {
  "kernelspec": {
   "display_name": "Python 3",
   "language": "python",
   "name": "python3"
  },
  "language_info": {
   "codemirror_mode": {
    "name": "ipython",
    "version": 3
   },
   "file_extension": ".py",
   "mimetype": "text/x-python",
   "name": "python",
   "nbconvert_exporter": "python",
   "pygments_lexer": "ipython3",
   "version": "3.7.6"
  }
 },
 "nbformat": 4,
 "nbformat_minor": 4
}
