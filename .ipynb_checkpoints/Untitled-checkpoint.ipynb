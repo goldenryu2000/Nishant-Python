{
 "cells": [
  {
   "cell_type": "code",
   "execution_count": 3,
   "metadata": {},
   "outputs": [],
   "source": [
    "import requests as rq\n",
    "import bs4\n"
   ]
  },
  {
   "cell_type": "code",
   "execution_count": 9,
   "metadata": {},
   "outputs": [
    {
     "name": "stdout",
     "output_type": "stream",
     "text": [
      "Enter Name of Movie: qwerty\n",
      "https://tapritricks.blogspot.com/search?q=qwerty\n"
     ]
    },
    {
     "data": {
      "text/plain": [
       "[<div class=\"widget PopularPosts\" data-version=\"2\" id=\"PopularPosts1\">\n",
       " <div class=\"widget-title\">\n",
       " <h3 class=\"title\">\n",
       " Popular Hits\n",
       " </h3>\n",
       " </div>\n",
       " <div class=\"widget-content\">\n",
       " <div class=\"post\">\n",
       " <div class=\"post-content\">\n",
       " <a class=\"post-image-link\" href=\"https://tapritricks.blogspot.com/2020/07/mafia-zee5original-2020-asur114920.html\">\n",
       " <img alt=\"Mafia | Zee5_original | 2020 | @asur114920 |\" class=\"post-thumb\" src=\"https://1.bp.blogspot.com/-2EPLgp01yZY/XwlnM4BSuaI/AAAAAAAAAsE/3cRZJ3v8lUMLyJAZc-77kD0Eo7k9PonEgCLcBGAsYHQ/w180/IMG_20200711_124544_877.jpg\"/>\n",
       " </a>\n",
       " <div class=\"post-info\">\n",
       " <h2 class=\"post-title\">\n",
       " <a href=\"https://tapritricks.blogspot.com/2020/07/mafia-zee5original-2020-asur114920.html\">Mafia | Zee5_original | 2020 | @asur114920 |</a>\n",
       " </h2>\n",
       " <div class=\"post-meta\">\n",
       " <span class=\"post-date published\" datetime=\"2020-07-11T13:19:00+06:00\">13:19</span>\n",
       " </div>\n",
       " </div>\n",
       " </div>\n",
       " </div>\n",
       " <div class=\"post\">\n",
       " <div class=\"post-content\">\n",
       " <a class=\"post-image-link\" href=\"https://tapritricks.blogspot.com/2020/07/asur-voot-select-original-bluray-print.html\">\n",
       " <img alt=\"ASUR | VOOT SELECT ORIGINAL | Bluray PRINT DOWNLOAD  \" class=\"post-thumb\" src=\"https://1.bp.blogspot.com/-MNMn10VkSZI/XwdZBeCNoCI/AAAAAAAAAo0/z7awEe0Vu4IVo2XvZT0QVzEg1Fq83alowCK4BGAsYHg/w180/IMG_20200709_232043_734.jpg\"/>\n",
       " </a>\n",
       " <div class=\"post-info\">\n",
       " <h2 class=\"post-title\">\n",
       " <a href=\"https://tapritricks.blogspot.com/2020/07/asur-voot-select-original-bluray-print.html\">ASUR | VOOT SELECT ORIGINAL | Bluray PRINT DOWNLOAD  </a>\n",
       " </h2>\n",
       " <div class=\"post-meta\">\n",
       " <span class=\"post-date published\" datetime=\"2020-07-09T23:51:00+06:00\">23:51</span>\n",
       " </div>\n",
       " </div>\n",
       " </div>\n",
       " </div>\n",
       " <div class=\"post\">\n",
       " <div class=\"post-content\">\n",
       " <a class=\"post-image-link\" href=\"https://tapritricks.blogspot.com/2020/07/bulbbul-2020-full-name-bulbbul-language.html\">\n",
       " <img alt=\"Ala Vaikunthapurramloo | 2020 | Telgu New | Direct download | NETFLIX MOVIES |\" class=\"post-thumb\" src=\"https://1.bp.blogspot.com/-KhlbkUMKG-4/XwFkiiJJ99I/AAAAAAAAAg8/Q5BRIilJM-MLC0l2kHmgtP69ShvxqOWpgCK4BGAsYHg/w180/IMG_20200705_105601.jpg\"/>\n",
       " </a>\n",
       " <div class=\"post-info\">\n",
       " <h2 class=\"post-title\">\n",
       " <a href=\"https://tapritricks.blogspot.com/2020/07/bulbbul-2020-full-name-bulbbul-language.html\">Ala Vaikunthapurramloo | 2020 | Telgu New | Direct download | NETFLIX MOVIES |</a>\n",
       " </h2>\n",
       " <div class=\"post-meta\">\n",
       " <span class=\"post-date published\" datetime=\"2020-07-05T11:19:00+06:00\">11:19</span>\n",
       " </div>\n",
       " </div>\n",
       " </div>\n",
       " </div>\n",
       " <div class=\"post\">\n",
       " <div class=\"post-content\">\n",
       " <a class=\"post-image-link\" href=\"https://tapritricks.blogspot.com/2020/06/kedarnath-sushant-singh-rajput-20018.html\">\n",
       " <img alt=\"KEDARNATH | SUSHANT SINGH RAJPUT | 20018 | BluRay , 720p, 480p | DOWNLOAD PRINT | FASTEST LINK |\" class=\"post-thumb\" src=\"https://lh6.googleusercontent.com/proxy/OpPTEJ9-37T3DI40LcjYcFT_4ZnIw1Tq2t4kKdfY2e_fr93Qo-0fxxK5O5Gh7xVy6601XyKozeP1srmaeY0n6krIv7rA2rJ_-EbajLReWYI97OG35E-NGFsj8wvRejydVjU5uQf5A8aLp1QFz9L4ZNMG10R09M-XR7sBPg=w180\"/>\n",
       " </a>\n",
       " <div class=\"post-info\">\n",
       " <h2 class=\"post-title\">\n",
       " <a href=\"https://tapritricks.blogspot.com/2020/06/kedarnath-sushant-singh-rajput-20018.html\">KEDARNATH | SUSHANT SINGH RAJPUT | 20018 | BluRay , 720p, 480p | DOWNLOAD PRINT | FASTEST LINK |</a>\n",
       " </h2>\n",
       " <div class=\"post-meta\">\n",
       " <span class=\"post-date published\" datetime=\"2020-06-06T13:16:00+06:00\">13:16</span>\n",
       " </div>\n",
       " </div>\n",
       " </div>\n",
       " </div>\n",
       " <div class=\"post\">\n",
       " <div class=\"post-content\">\n",
       " <a class=\"post-image-link\" href=\"https://tapritricks.blogspot.com/2020/05/panchayat-amazon-prime-full-series.html\">\n",
       " <img alt=\"PANCHAYAT | AMAZON PRIME | FULL SERIES | DOWNLOAD | ALL EPISODES IN ONE |\" class=\"post-thumb\" src=\"https://lh6.googleusercontent.com/proxy/2nad5TSDWXhHqrAtzgIfypWb4lqPpIENftTLk0cFdetJi5BCmgEuc77CFvHoJpTbysnSjMZ3FoQz2LDaEj3CUO-W94Ep4f5sEPKtFho3eVOdVvDB8X2LIK4lhXXX6P-5LizaUh05OHfO6CPiYRImQpHc7vQ9Dl485TiV61Q6g4BfFSRQo2tIlvcOHl-scqvZPw=w180\"/>\n",
       " </a>\n",
       " <div class=\"post-info\">\n",
       " <h2 class=\"post-title\">\n",
       " <a href=\"https://tapritricks.blogspot.com/2020/05/panchayat-amazon-prime-full-series.html\">PANCHAYAT | AMAZON PRIME | FULL SERIES | DOWNLOAD | ALL EPISODES IN ONE |</a>\n",
       " </h2>\n",
       " <div class=\"post-meta\">\n",
       " <span class=\"post-date published\" datetime=\"2020-05-29T23:18:00+06:00\">23:18</span>\n",
       " </div>\n",
       " </div>\n",
       " </div>\n",
       " </div>\n",
       " <div class=\"post\">\n",
       " <div class=\"post-content\">\n",
       " <a class=\"post-image-link\" href=\"https://tapritricks.blogspot.com/2020/06/dark-seasson-03-2020-full-name-dark.html\">\n",
       " <img alt=\"DARK SEASON 03 | NETFLIX ORIGINAL | FULL SERIES DOWNLOAD | BluRay PRINT |\" class=\"post-thumb\" src=\"https://lh3.googleusercontent.com/proxy/duEHL6-qj6y3K-WsIuTlzvVymLd-ZEAJGGe7BlWP_6239DgecK7eHeR_5E3wgr0XkudGVgLREaPv2yJ7kJ5VhJFuxwrIIZKv1j0Ee_XvH9sLthOngohrK2hJMVAv-wW8=w180\"/>\n",
       " </a>\n",
       " <div class=\"post-info\">\n",
       " <h2 class=\"post-title\">\n",
       " <a href=\"https://tapritricks.blogspot.com/2020/06/dark-seasson-03-2020-full-name-dark.html\">DARK SEASON 03 | NETFLIX ORIGINAL | FULL SERIES DOWNLOAD | BluRay PRINT |</a>\n",
       " </h2>\n",
       " <div class=\"post-meta\">\n",
       " <span class=\"post-date published\" datetime=\"2020-06-25T01:01:00+06:00\">01:01</span>\n",
       " </div>\n",
       " </div>\n",
       " </div>\n",
       " </div>\n",
       " </div>\n",
       " </div>]"
      ]
     },
     "execution_count": 9,
     "metadata": {},
     "output_type": "execute_result"
    }
   ],
   "source": [
    "a = input(\"Enter Name of Movie: \")\n",
    "url = \"https://tapritricks.blogspot.com/search?q={}\" .format(a)\n",
    "print(url)\n",
    "response = rq.get(url)\n",
    "soup = bs4.BeautifulSoup(response.content, features=\"html.parser\")\n",
    "if soup.find_all('div',{'class': \"widget PopularPosts\"}) == True:\n",
    "    continue\n",
    "else:\n",
    "    pict_attr = soup.find_all('a',{'class': \"post-image-link\"})\n"
   ]
  },
  {
   "cell_type": "code",
   "execution_count": null,
   "metadata": {},
   "outputs": [],
   "source": []
  }
 ],
 "metadata": {
  "kernelspec": {
   "display_name": "Python 3",
   "language": "python",
   "name": "python3"
  },
  "language_info": {
   "codemirror_mode": {
    "name": "ipython",
    "version": 3
   },
   "file_extension": ".py",
   "mimetype": "text/x-python",
   "name": "python",
   "nbconvert_exporter": "python",
   "pygments_lexer": "ipython3",
   "version": "3.7.6"
  }
 },
 "nbformat": 4,
 "nbformat_minor": 4
}
