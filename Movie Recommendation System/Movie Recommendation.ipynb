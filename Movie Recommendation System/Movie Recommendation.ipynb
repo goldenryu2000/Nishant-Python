{
 "cells": [
  {
   "cell_type": "code",
   "execution_count": 1,
   "metadata": {},
   "outputs": [],
   "source": [
    "import pandas as pd\n",
    "import warnings\n",
    "import cv2\n",
    "warnings.filterwarnings('ignore')"
   ]
  },
  {
   "cell_type": "markdown",
   "metadata": {},
   "source": [
    "# Load the Data file"
   ]
  },
  {
   "cell_type": "code",
   "execution_count": 2,
   "metadata": {},
   "outputs": [],
   "source": [
    "column_names = [\"user_id\" , \"movie_id\" , \"rating\" , \"timestamp\"]\n",
    "u_data = pd.read_csv('ml-100k/u.data',sep = '\\t' , names = column_names)"
   ]
  },
  {
   "cell_type": "markdown",
   "metadata": {},
   "source": [
    "# Load the item file"
   ]
  },
  {
   "cell_type": "code",
   "execution_count": 3,
   "metadata": {},
   "outputs": [],
   "source": [
    "movie_titles = movie_titles = pd.read_csv('ml-100k/u.item' , sep = \"\\|\" , header = None)"
   ]
  },
  {
   "cell_type": "code",
   "execution_count": 4,
   "metadata": {},
   "outputs": [],
   "source": [
    "movie_titles =movie_titles[[0,1]]\n",
    "movie_titles.columns = [\"movie_id\" ,\"title\"]"
   ]
  },
  {
   "cell_type": "code",
   "execution_count": 5,
   "metadata": {},
   "outputs": [],
   "source": [
    "u_data= pd.merge(u_data ,movie_titles , on = \"movie_id\")"
   ]
  },
  {
   "cell_type": "code",
   "execution_count": 6,
   "metadata": {},
   "outputs": [],
   "source": [
    "ratings = pd.DataFrame(u_data.groupby('title').mean()['rating'])"
   ]
  },
  {
   "cell_type": "code",
   "execution_count": 7,
   "metadata": {},
   "outputs": [],
   "source": [
    "ratings['num of ratings']  =pd.DataFrame(u_data.groupby('title').count()['rating'])"
   ]
  },
  {
   "cell_type": "code",
   "execution_count": 8,
   "metadata": {},
   "outputs": [],
   "source": [
    "moviemat = u_data.pivot_table(index=\"user_id\" ,columns=\"title\" , values=\"rating\")"
   ]
  },
  {
   "cell_type": "code",
   "execution_count": 9,
   "metadata": {},
   "outputs": [],
   "source": [
    "def predict_movies(movie_name):\n",
    "    movie_user_ratings = moviemat[movie_name.title()] #get the movie from Movie Matrix.\n",
    "    similar_to_movie = moviemat.corrwith(movie_user_ratings) #Find the correaltion\n",
    "    corr_movie = pd.DataFrame(similar_to_movie , columns=[\"Correlation\"]) #Make a dataframe\n",
    "    corr_movie.dropna(inplace= True) #Drop the NaN values\n",
    "    corr_movie = corr_movie.join(ratings['num of ratings'])\n",
    "    predictions = corr_movie[corr_movie['num of ratings']>100].sort_values('Correlation' , ascending =False)\n",
    "    return predictions"
   ]
  },
  {
   "cell_type": "code",
   "execution_count": 10,
   "metadata": {},
   "outputs": [
    {
     "name": "stdout",
     "output_type": "stream",
     "text": [
      "*** Using MovieLens 100k dataset***\n",
      "Enter the Movie Name: Titanic\n",
      "Enter The Year of the Movie: 1997\n",
      "                              Correlation  num of ratings\n",
      "title                                                    \n",
      "Titanic (1997)                   1.000000             350\n",
      "River Wild, The (1994)           0.497600             146\n",
      "Abyss, The (1989)                0.472103             151\n",
      "Bram Stoker's Dracula (1992)     0.443560             120\n",
      "True Lies (1994)                 0.435104             208\n"
     ]
    }
   ],
   "source": [
    "print(\"*** Using MovieLens 100k dataset***\")\n",
    "m_name = input(\"Enter the Movie Name: \")\n",
    "m_year = input(\"Enter The Year of the Movie: \")\n",
    "movie_name = m_name+\" (\"+m_year+\")\"\n",
    "try: \n",
    "    pred  = predict_movies(movie_name)\n",
    "    print(pred.head())\n",
    "except KeyError:\n",
    "    print(\"Did you write the correct name or year?\")"
   ]
  }
 ],
 "metadata": {
  "kernelspec": {
   "display_name": "Python 3",
   "language": "python",
   "name": "python3"
  },
  "language_info": {
   "codemirror_mode": {
    "name": "ipython",
    "version": 3
   },
   "file_extension": ".py",
   "mimetype": "text/x-python",
   "name": "python",
   "nbconvert_exporter": "python",
   "pygments_lexer": "ipython3",
   "version": "3.7.6"
  }
 },
 "nbformat": 4,
 "nbformat_minor": 4
}
