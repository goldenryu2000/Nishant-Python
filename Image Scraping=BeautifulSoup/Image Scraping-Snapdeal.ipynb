{
 "cells": [
  {
   "cell_type": "markdown",
   "metadata": {},
   "source": [
    "# Program To Get Top 3 Search Images from Snapdeal sorted By Popularity:)"
   ]
  },
  {
   "cell_type": "code",
   "execution_count": 1,
   "metadata": {},
   "outputs": [],
   "source": [
    "import requests as rq\n",
    "import bs4"
   ]
  },
  {
   "cell_type": "code",
   "execution_count": null,
   "metadata": {},
   "outputs": [],
   "source": [
    "a = input(\"Enter Term to be Searched: \")\n",
    "url = \"https://www.snapdeal.com/search?\"\n",
    "para = {\n",
    "    \"Keyword\" : a ,\n",
    "    \"sort\" : \"plrty\"\n",
    "}\n",
    "response = rq.get(url, params = para)\n",
    "soup = bs4.BeautifulSoup(response.content) \n",
    "\n",
    "pict_attribute = soup.findAll('picture', {'class' : 'picture-elem'})\n",
    "pict = pict_attribute[0]\n",
    "for i , pict in enumerate(pict_attribute):\n",
    "    if i<3:\n",
    "        with open(\"Snapdeal-{}-{}.jpg\" .format(a,i+1) , \"wb\") as file:\n",
    "            pict_url = pict.img.attrs['src']\n",
    "            response = rq.get(pict_url)\n",
    "            file.write(response.content)\n",
    "    else: \n",
    "        break\n"
   ]
  },
  {
   "cell_type": "code",
   "execution_count": null,
   "metadata": {},
   "outputs": [],
   "source": []
  },
  {
   "cell_type": "code",
   "execution_count": null,
   "metadata": {},
   "outputs": [],
   "source": []
  }
 ],
 "metadata": {
  "kernelspec": {
   "display_name": "Python 3",
   "language": "python",
   "name": "python3"
  },
  "language_info": {
   "codemirror_mode": {
    "name": "ipython",
    "version": 3
   },
   "file_extension": ".py",
   "mimetype": "text/x-python",
   "name": "python",
   "nbconvert_exporter": "python",
   "pygments_lexer": "ipython3",
   "version": "3.7.6"
  }
 },
 "nbformat": 4,
 "nbformat_minor": 4
}
