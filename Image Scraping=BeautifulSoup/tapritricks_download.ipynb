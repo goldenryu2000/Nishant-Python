{
 "cells": [
  {
   "cell_type": "code",
   "execution_count": 1,
   "metadata": {},
   "outputs": [],
   "source": [
    "import requests as rq\n",
    "import bs4\n",
    "import webbrowser"
   ]
  },
  {
   "cell_type": "code",
   "execution_count": 6,
   "metadata": {},
   "outputs": [
    {
     "name": "stdout",
     "output_type": "stream",
     "text": [
      "Enter Name of Movie: KGF\n",
      "Download Thumbnail(Y/N): Y\n",
      "Download Movie(Y/N): Y\n"
     ]
    }
   ],
   "source": [
    "a = input(\"Enter Name of Movie: \")\n",
    "url = \"https://tapritricks.blogspot.com/search?q={}\" .format(a)\n",
    "response = rq.get(url)\n",
    "soup = bs4.BeautifulSoup(response.content)\n",
    "pict_attr = soup.find_all('a',{'class': \"post-image-link\"})\n",
    "try:\n",
    "    url2 = pict_attr[0].attrs['href']\n",
    "    response2 = rq.get(url2)\n",
    "    soup2 = bs4.BeautifulSoup(response2.content)\n",
    "    img_attr = soup2.find_all('img')\n",
    "    img = img_attr[1]\n",
    "    x = input(\"Download Thumbnail(Y/N): \")\n",
    "    if x.upper()==\"Y\":\n",
    "        with open(\"{}.jpg\" .format(a),\"wb\") as file:\n",
    "            img_url = img.attrs['src']\n",
    "            response = rq.get(img_url)\n",
    "            file.write(response.content)\n",
    "        a = input(\"Download Movie(Y/N): \")\n",
    "        if a.upper()==\"Y\":\n",
    "            try: \n",
    "                link = soup2.find_all('img',{\"alt\": \"@aur114920 Telegram\"})\n",
    "                lk = link[0]\n",
    "                link_down = lk.parent.attrs['href']\n",
    "                webbrowser.open(link_down, new=2)\n",
    "            except KeyError:\n",
    "                print(\"Link not Available\")\n",
    "                \n",
    "except IndexError:\n",
    "    print(\"Not Found\")\n",
    "    \n",
    "    \n",
    "\n"
   ]
  },
  {
   "cell_type": "code",
   "execution_count": null,
   "metadata": {},
   "outputs": [],
   "source": [
    "\n"
   ]
  }
 ],
 "metadata": {
  "kernelspec": {
   "display_name": "Python 3",
   "language": "python",
   "name": "python3"
  },
  "language_info": {
   "codemirror_mode": {
    "name": "ipython",
    "version": 3
   },
   "file_extension": ".py",
   "mimetype": "text/x-python",
   "name": "python",
   "nbconvert_exporter": "python",
   "pygments_lexer": "ipython3",
   "version": "3.7.6"
  }
 },
 "nbformat": 4,
 "nbformat_minor": 4
}
