{
 "cells": [
  {
   "cell_type": "code",
   "execution_count": 1,
   "metadata": {},
   "outputs": [],
   "source": [
    "import requests as rq\n",
    "import bs4"
   ]
  },
  {
   "cell_type": "code",
   "execution_count": 5,
   "metadata": {},
   "outputs": [
    {
     "name": "stdout",
     "output_type": "stream",
     "text": [
      "Enter (prefer lowercase): kailash kher\n",
      "Image Not Found\n"
     ]
    }
   ],
   "source": [
    "a = input(\"Enter (prefer lowercase): \")\n",
    "url = \"https://en.wikipedia.org/wiki/\"\n",
    "response = rq.get(url+ a.title())\n",
    "soup = bs4.BeautifulSoup(response.content) \n",
    "pict_attribute = soup.findAll('table', {'class' : 'infobox biography vcard'})\n",
    "try:\n",
    "    pict = pict_attribute[0]\n",
    "    with open(\"Wikipedia {}.jpg\" .format(a) , \"wb\") as file:\n",
    "        pict_url = pict.img.attrs['src']\n",
    "        response = rq.get(\"https:\"+pict_url)\n",
    "        file.write(response.content)\n",
    "except IndexError:\n",
    "    print(\"Image Not Found\")"
   ]
  },
  {
   "cell_type": "code",
   "execution_count": null,
   "metadata": {},
   "outputs": [],
   "source": []
  }
 ],
 "metadata": {
  "kernelspec": {
   "display_name": "Python 3",
   "language": "python",
   "name": "python3"
  },
  "language_info": {
   "codemirror_mode": {
    "name": "ipython",
    "version": 3
   },
   "file_extension": ".py",
   "mimetype": "text/x-python",
   "name": "python",
   "nbconvert_exporter": "python",
   "pygments_lexer": "ipython3",
   "version": "3.7.6"
  }
 },
 "nbformat": 4,
 "nbformat_minor": 4
}
